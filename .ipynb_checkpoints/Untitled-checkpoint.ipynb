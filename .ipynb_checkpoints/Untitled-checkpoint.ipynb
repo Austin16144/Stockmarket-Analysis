{
 "cells": [
  {
   "cell_type": "markdown",
   "id": "72032590-efd9-486a-90d9-43d46da95e01",
   "metadata": {},
   "source": [
    "## 📘 What is a Time Series?\n",
    "A sequence of data points collected at regular intervals over time, like daily stock prices or monthly sales."
   ]
  },
  {
   "cell_type": "markdown",
   "id": "7781b841-0510-403a-8790-8ab61aa4fa87",
   "metadata": {},
   "source": [
    "## 📊 Components of Time Series\n",
    "- **Trend**: Long-term increase or decrease.\n",
    "- **Seasonality**: Repeated patterns at regular intervals (e.g., quarterly).\n",
    "- **Cyclic**: Irregular cycles (e.g., business cycles).\n",
    "- **Noise**: Random fluctuations.\n",
    "- **Stationarity**: When mean and variance stay constant over time."
   ]
  },
  {
   "cell_type": "markdown",
   "id": "40fb9233-e8b5-4fe9-bf64-0d22ed8b1417",
   "metadata": {},
   "source": [
    "## 📈 What is Autocorrelation?\n",
    "Correlation of a time series with its own previous values (lags)."
   ]
  },
  {
   "cell_type": "markdown",
   "id": "0d5f420d-f65a-4662-86d4-eb04e9cbb2ec",
   "metadata": {},
   "source": [
    "## 🔍 What are ACF and PACF?\n",
    "- **ACF** shows correlation between current and past values.\n",
    "- **PACF** shows direct correlation by removing intermediate effects."
   ]
  },
  {
   "cell_type": "markdown",
   "id": "8b403317-1745-4be2-beb0-f6de725651b2",
   "metadata": {},
   "source": [
    "## 🎯 Why Forecasting?\n",
    "Used in finance, retail, healthcare, etc. to make data-driven future predictions."
   ]
  },
  {
   "cell_type": "code",
   "execution_count": null,
   "id": "ae6f29f6-b3f7-43a5-8754-270c9fec5732",
   "metadata": {},
   "outputs": [],
   "source": [
    "!pip install yfinance\n",
    "\n",
    "import yfinance as yf\n",
    "import pandas as pd\n",
    "\n",
    "# Download historical stock data\n",
    "data = yf.download(\"AAPL\", start=\"2015-01-01\", end=\"2024-01-01\")\n",
    "\n",
    "# Save to CSV\n",
    "data.to_csv(\"AAPL_stock.csv\")\n",
    "\n",
    "# Preview\n",
    "data.head()"
   ]
  },
  {
   "cell_type": "markdown",
   "id": "f23469f8-582e-4a92-8f1f-a41965957542",
   "metadata": {},
   "source": [
    "## ✅ Summary\n",
    "\n",
    "- Collected Apple (AAPL) stock data from 2015–2024 using `yfinance`.\n",
    "- Dataset includes Open, High, Low, Close, Volume for each trading day.\n",
    "- This will be used for forecasting stock trends in future steps."
   ]
  },
  {
   "cell_type": "code",
   "execution_count": null,
   "id": "046cde97-55aa-478b-909c-7416a5247e17",
   "metadata": {},
   "outputs": [],
   "source": []
  },
  {
   "cell_type": "code",
   "execution_count": null,
   "id": "0836a43d-5803-4636-aa89-a608a4992b55",
   "metadata": {},
   "outputs": [],
   "source": []
  }
 ],
 "metadata": {
  "kernelspec": {
   "display_name": "Python 3 (ipykernel)",
   "language": "python",
   "name": "python3"
  },
  "language_info": {
   "codemirror_mode": {
    "name": "ipython",
    "version": 3
   },
   "file_extension": ".py",
   "mimetype": "text/x-python",
   "name": "python",
   "nbconvert_exporter": "python",
   "pygments_lexer": "ipython3",
   "version": "3.11.9"
  }
 },
 "nbformat": 4,
 "nbformat_minor": 5
}
