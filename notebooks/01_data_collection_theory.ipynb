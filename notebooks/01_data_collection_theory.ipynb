{
 "cells": [
  {
   "cell_type": "markdown",
   "id": "75fa1591",
   "metadata": {},
   "source": [
    "## 📘 What is a Time Series?\n",
    "A sequence of data points collected at regular intervals over time."
   ]
  },
  {
   "cell_type": "markdown",
   "id": "80e377d6",
   "metadata": {},
   "source": [
    "## 📊 Components of Time Series\n",
    "- **Trend**: Long-term increase or decrease.\n",
    "- **Seasonality**: Repeating pattern at fixed intervals.\n",
    "- **Cyclic**: Repeating patterns but not fixed like seasons.\n",
    "- **Noise**: Random variation or spikes.\n",
    "- **Stationarity**: When mean and variance stay constant over time."
   ]
  },
  {
   "cell_type": "markdown",
   "id": "28162bdb",
   "metadata": {},
   "source": [
    "## 📈 What is Autocorrelation?\n",
    "Correlation of a time series with its own previous values (lags)."
   ]
  },
  {
   "cell_type": "markdown",
   "id": "5976528d",
   "metadata": {},
   "source": [
    "## 🔍 What are ACF and PACF?\n",
    "- **ACF**: Shows how values are correlated with past values.\n",
    "- **PACF**: Removes indirect correlations and shows direct influence."
   ]
  },
  {
   "cell_type": "markdown",
   "id": "41f34ca0",
   "metadata": {},
   "source": [
    "## 🎯 Why Forecasting?\n",
    "Used in finance, weather, sales, etc. to predict future values based on past patterns."
   ]
  },
  {
   "cell_type": "code",
   "execution_count": null,
   "id": "296be9f7",
   "metadata": {},
   "outputs": [],
   "source": [
    "# Install yfinance if not already installed\n",
    "!pip install yfinance"
   ]
  },
  {
   "cell_type": "code",
   "execution_count": null,
   "id": "77d27523",
   "metadata": {},
   "outputs": [],
   "source": [
    "import yfinance as yf\n",
    "import pandas as pd"
   ]
  },
  {
   "cell_type": "code",
   "execution_count": null,
   "id": "7715db25",
   "metadata": {},
   "outputs": [],
   "source": [
    "# Download stock data for Apple (AAPL)\n",
    "data = yf.download(\"AAPL\", start=\"2015-01-01\", end=\"2024-01-01\")\n",
    "data.head()"
   ]
  },
  {
   "cell_type": "code",
   "execution_count": null,
   "id": "bf5ef9db",
   "metadata": {},
   "outputs": [],
   "source": [
    "# Save to CSV\n",
    "data.to_csv(\"AAPL_stock.csv\")"
   ]
  },
  {
   "cell_type": "markdown",
   "id": "57f7211e",
   "metadata": {},
   "source": [
    "## ✅ Summary\n",
    "- Collected Apple (AAPL) stock data from 2015–2024.\n",
    "- Data includes Open, High, Low, Close, and Volume columns.\n",
    "- This dataset will be used for forecasting in upcoming weeks."
   ]
  },
  {
   "cell_type": "code",
   "execution_count": null,
   "id": "880ca3e1",
   "metadata": {},
   "outputs": [],
   "source": []
  }
 ],
 "metadata": {
  "language_info": {
   "name": "python"
  }
 },
 "nbformat": 4,
 "nbformat_minor": 5
}
